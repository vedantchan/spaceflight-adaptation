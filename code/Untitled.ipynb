{
 "cells": [
  {
   "cell_type": "code",
   "execution_count": 1,
   "metadata": {},
   "outputs": [
    {
     "name": "stdout",
     "output_type": "stream",
     "text": [
      "              time  accel x  accel y  accel z  gyro x  gyro y  gyro z\n",
      "0     15:18:45.511    0.172   -0.749   -0.602     5.2     5.4     1.3\n",
      "1     15:18:45.558    0.170   -0.770   -0.607     1.5     8.3    -1.1\n",
      "2     15:18:45.605    0.208   -0.747   -0.614    -2.1     6.6    -5.0\n",
      "3     15:18:45.679    0.212   -0.750   -0.607     5.4     2.0    -7.6\n",
      "4     15:18:45.732    0.212   -0.759   -0.590    10.1     5.6   -13.1\n",
      "...            ...      ...      ...      ...     ...     ...     ...\n",
      "1221  15:19:22.000    0.038   -0.905   -0.424     0.0     0.0     0.0\n",
      "1222  15:19:22.078    0.033   -0.903   -0.423     0.0     0.0     0.0\n",
      "1223  15:19:22.141    0.038   -0.904   -0.423     0.0     0.0     0.0\n",
      "1224  15:19:22.188    0.032   -0.901   -0.425     0.0     0.0     0.0\n",
      "1225  15:19:22.266    0.035   -0.905   -0.424     0.0     0.0     0.0\n",
      "\n",
      "[1226 rows x 7 columns]\n"
     ]
    }
   ],
   "source": [
    "import tkinter as tk\n",
    "from tkinter import filedialog\n",
    "import pandas as pd\n",
    "\n",
    "root= tk.Tk()\n",
    "\n",
    "canvas1 = tk.Canvas(root, width = 300, height = 300, bg = 'lightsteelblue2', relief = 'raised')\n",
    "canvas1.pack()\n",
    "\n",
    "def getCSV ():\n",
    "    global df\n",
    "    \n",
    "    import_file_path = filedialog.askopenfilename()\n",
    "    df = pd.read_csv (import_file_path)\n",
    "    print (df)\n",
    "    \n",
    "browseButton_CSV = tk.Button(text=\"      Import CSV File     \", command=getCSV, bg='green', fg='white', font=('helvetica', 12, 'bold'))\n",
    "canvas1.create_window(150, 150, window=browseButton_CSV)\n",
    "\n",
    "root.mainloop()"
   ]
  },
  {
   "cell_type": "code",
   "execution_count": 18,
   "metadata": {},
   "outputs": [
    {
     "name": "stdout",
     "output_type": "stream",
     "text": [
      "             time  accel x  accel y  accel z  gyro x  gyro y  gyro z\n",
      "0    15:22:22.598    0.058   -0.706   -0.728     8.0     7.0     4.1\n",
      "1    15:22:22.660    0.041   -0.686   -0.711     7.6    10.7    -2.2\n",
      "2    15:22:22.707    0.058   -0.676   -0.707     0.6    10.1    -9.7\n",
      "3    15:22:22.769    0.107   -0.644   -0.707     2.4     6.3   -17.3\n",
      "4    15:22:22.816    0.145   -0.596   -0.675    14.0    -0.5   -41.4\n",
      "..            ...      ...      ...      ...     ...     ...     ...\n",
      "584  15:22:57.649    0.034   -0.290   -0.965    17.0     3.9    -1.6\n",
      "585  15:22:57.696    0.056   -0.276   -0.950   -22.5   -11.5    -3.9\n",
      "586  15:22:57.758    0.031   -0.253   -0.911     3.2   -21.3    -0.1\n",
      "587  15:22:57.825    0.004   -0.269   -0.937    12.0    -8.3    -2.1\n",
      "588  15:22:57.873    0.000   -0.293   -0.926   -16.5    -3.1    -6.2\n",
      "\n",
      "[589 rows x 7 columns]\n"
     ]
    }
   ],
   "source": [
    "import tkinter as tk\n",
    "from tkinter import filedialog\n",
    "import pandas as pd\n",
    "\n",
    "root= tk.Tk()\n",
    "\n",
    "canvas1 = tk.Canvas(root, width = 300, height = 300, bg = 'lightsteelblue2', relief = 'raised')\n",
    "canvas1.pack()\n",
    "\n",
    "def getCSV ():\n",
    "    global df\n",
    "    \n",
    "    import_file_path = filedialog.askopenfilename()\n",
    "    df = pd.read_csv (import_file_path)\n",
    "    print (df)\n",
    "    \n",
    "browseButton_CSV = tk.Button(text=\"      Import CSV File     \", command=getCSV, bg='green', fg='white', font=('helvetica', 12, 'bold'))\n",
    "canvas1.create_window(150, 150, window=browseButton_CSV)\n",
    "\n",
    "root.mainloop()"
   ]
  },
  {
   "cell_type": "code",
   "execution_count": 19,
   "metadata": {},
   "outputs": [
    {
     "name": "stdout",
     "output_type": "stream",
     "text": [
      "             time  accel x  accel y  accel z  gyro x  gyro y  gyro z\n",
      "0    16:28:35.259    0.068   -0.744   -0.658     2.3     2.4     1.2\n",
      "1    16:28:35.311    0.059   -0.751   -0.654     4.6     5.3     1.8\n",
      "2    16:28:35.372    0.069   -0.746   -0.661     1.6     5.4    -0.1\n",
      "3    16:28:35.435    0.076   -0.743   -0.660     2.0    -0.6    -1.6\n",
      "4    16:28:35.482    0.069   -0.760   -0.653    -1.9    -3.7     0.6\n",
      "..            ...      ...      ...      ...     ...     ...     ...\n",
      "476  16:29:17.542    0.031   -0.907   -0.427     0.0     0.0     0.0\n",
      "477  16:29:17.636    0.031   -0.906   -0.423     0.0     0.0     0.0\n",
      "478  16:29:17.683    0.032   -0.910   -0.421     0.0     0.0     0.0\n",
      "479  16:29:17.754    0.029   -0.907   -0.421     0.0     0.0     0.0\n",
      "480  16:29:17.806    0.031   -0.907   -0.426     0.0     0.0     0.0\n",
      "\n",
      "[481 rows x 7 columns]\n"
     ]
    }
   ],
   "source": [
    "import tkinter as tk\n",
    "from tkinter import filedialog\n",
    "import pandas as pd\n",
    "\n",
    "root= tk.Tk()\n",
    "\n",
    "canvas1 = tk.Canvas(root, width = 300, height = 300, bg = 'lightsteelblue2', relief = 'raised')\n",
    "canvas1.pack()\n",
    "\n",
    "def getCSV ():\n",
    "    global df\n",
    "    \n",
    "    import_file_path = filedialog.askopenfilename()\n",
    "    df = pd.read_csv (import_file_path)\n",
    "    print (df)\n",
    "    \n",
    "browseButton_CSV = tk.Button(text=\"      Import CSV File     \", command=getCSV, bg='green', fg='white', font=('helvetica', 12, 'bold'))\n",
    "canvas1.create_window(150, 150, window=browseButton_CSV)\n",
    "\n",
    "root.mainloop()"
   ]
  },
  {
   "cell_type": "code",
   "execution_count": 20,
   "metadata": {},
   "outputs": [
    {
     "name": "stdout",
     "output_type": "stream",
     "text": [
      "             time  accel x  accel y  accel z  gyro x  gyro y  gyro z\n",
      "0    16:36:32.358   -0.052   -0.972   -0.241     0.8    -0.6     0.9\n",
      "1    16:36:32.403   -0.036   -0.968   -0.240     0.2    -1.0     1.7\n",
      "2    16:36:32.450   -0.045   -0.976   -0.245     0.8    -1.7     1.0\n",
      "3    16:36:32.513   -0.044   -0.978   -0.239     0.4    -2.2     1.5\n",
      "4    16:36:32.575   -0.060   -0.973   -0.236     0.1    -2.3    -0.3\n",
      "..            ...      ...      ...      ...     ...     ...     ...\n",
      "488  16:37:01.382   -0.107   -0.947   -0.341    -1.0     3.4    -0.6\n",
      "489  16:37:01.429   -0.096   -0.936   -0.336     1.3     4.7    -1.0\n",
      "490  16:37:01.491   -0.095   -0.937   -0.336     0.6     1.7    -1.0\n",
      "491  16:37:01.554   -0.094   -0.943   -0.337     0.3    -2.2    -0.2\n",
      "492  16:37:01.618   -0.098   -0.946   -0.337     0.0     0.0     0.0\n",
      "\n",
      "[493 rows x 7 columns]\n"
     ]
    }
   ],
   "source": [
    "import tkinter as tk\n",
    "from tkinter import filedialog\n",
    "import pandas as pd\n",
    "\n",
    "root= tk.Tk()\n",
    "\n",
    "canvas1 = tk.Canvas(root, width = 300, height = 300, bg = 'lightsteelblue2', relief = 'raised')\n",
    "canvas1.pack()\n",
    "\n",
    "def getCSV ():\n",
    "    global df\n",
    "    \n",
    "    import_file_path = filedialog.askopenfilename()\n",
    "    df = pd.read_csv (import_file_path)\n",
    "    print (df)\n",
    "    \n",
    "browseButton_CSV = tk.Button(text=\"      Import CSV File     \", command=getCSV, bg='green', fg='white', font=('helvetica', 12, 'bold'))\n",
    "canvas1.create_window(150, 150, window=browseButton_CSV)\n",
    "\n",
    "root.mainloop()"
   ]
  },
  {
   "cell_type": "code",
   "execution_count": 21,
   "metadata": {},
   "outputs": [
    {
     "name": "stdout",
     "output_type": "stream",
     "text": [
      "             time  accel x  accel y  accel z  gyro x  gyro y  gyro z\n",
      "0    16:24:22.180   -0.086   -0.861   -0.506     0.0     0.0     0.0\n",
      "1    16:24:22.227   -0.083   -0.858   -0.512     0.0     0.0     0.0\n",
      "2    16:24:22.290   -0.085   -0.858   -0.513     0.0     0.0     0.0\n",
      "3    16:24:22.352   -0.088   -0.859   -0.515     0.0     0.0     0.0\n",
      "4    16:24:22.415   -0.081   -0.860   -0.509     0.0     0.0     0.0\n",
      "..            ...      ...      ...      ...     ...     ...     ...\n",
      "458  16:24:48.777   -0.095   -0.872   -0.500     0.0     0.0     0.0\n",
      "459  16:24:48.840   -0.091   -0.865   -0.502     0.0     0.0     0.0\n",
      "460  16:24:48.887   -0.088   -0.872   -0.498     0.0     0.0     0.0\n",
      "461  16:24:48.934   -0.093   -0.869   -0.502     0.0     0.0     0.0\n",
      "462  16:24:48.996   -0.094   -0.869   -0.502     0.0     0.0     0.0\n",
      "\n",
      "[463 rows x 7 columns]\n"
     ]
    }
   ],
   "source": [
    "import tkinter as tk\n",
    "from tkinter import filedialog\n",
    "import pandas as pd\n",
    "\n",
    "root= tk.Tk()\n",
    "\n",
    "canvas1 = tk.Canvas(root, width = 300, height = 300, bg = 'lightsteelblue2', relief = 'raised')\n",
    "canvas1.pack()\n",
    "\n",
    "def getCSV ():\n",
    "    global df\n",
    "    \n",
    "    import_file_path = filedialog.askopenfilename()\n",
    "    df = pd.read_csv (import_file_path)\n",
    "    print (df)\n",
    "    \n",
    "browseButton_CSV = tk.Button(text=\"      Import CSV File     \", command=getCSV, bg='green', fg='white', font=('helvetica', 12, 'bold'))\n",
    "canvas1.create_window(150, 150, window=browseButton_CSV)\n",
    "\n",
    "root.mainloop()"
   ]
  },
  {
   "cell_type": "code",
   "execution_count": 22,
   "metadata": {},
   "outputs": [
    {
     "name": "stdout",
     "output_type": "stream",
     "text": [
      "             time  accel x  accel y  accel z  gyro x  gyro y  gyro z\n",
      "0    16:33:03.252   -0.038   -0.905   -0.435    -3.4     3.0    -0.1\n",
      "1    16:33:03.315   -0.024   -0.912   -0.415    -4.3     1.0    -0.4\n",
      "2    16:33:03.362   -0.016   -0.891   -0.433    -0.1    -1.3    -1.9\n",
      "3    16:33:03.424   -0.032   -0.911   -0.442    -0.1    -1.8    -2.5\n",
      "4    16:33:03.487   -0.030   -0.923   -0.428    -3.4    -0.7    -2.0\n",
      "..            ...      ...      ...      ...     ...     ...     ...\n",
      "424  16:33:28.715   -0.022   -0.906   -0.425     0.0     0.0     0.0\n",
      "425  16:33:28.762   -0.031   -0.901   -0.426     0.8     0.6    -0.4\n",
      "426  16:33:28.824   -0.028   -0.906   -0.425     0.0     0.0     0.0\n",
      "427  16:33:28.887   -0.023   -0.907   -0.428     0.0     0.0     0.0\n",
      "428  16:33:28.950   -0.026   -0.911   -0.422     1.0    -0.7     0.6\n",
      "\n",
      "[429 rows x 7 columns]\n"
     ]
    }
   ],
   "source": [
    "import tkinter as tk\n",
    "from tkinter import filedialog\n",
    "import pandas as pd\n",
    "\n",
    "root= tk.Tk()\n",
    "\n",
    "canvas1 = tk.Canvas(root, width = 300, height = 300, bg = 'lightsteelblue2', relief = 'raised')\n",
    "canvas1.pack()\n",
    "\n",
    "def getCSV ():\n",
    "    global df\n",
    "    \n",
    "    import_file_path = filedialog.askopenfilename()\n",
    "    df = pd.read_csv (import_file_path)\n",
    "    print (df)\n",
    "    \n",
    "browseButton_CSV = tk.Button(text=\"      Import CSV File     \", command=getCSV, bg='green', fg='white', font=('helvetica', 12, 'bold'))\n",
    "canvas1.create_window(150, 150, window=browseButton_CSV)\n",
    "\n",
    "root.mainloop()"
   ]
  },
  {
   "cell_type": "code",
   "execution_count": 23,
   "metadata": {},
   "outputs": [
    {
     "name": "stdout",
     "output_type": "stream",
     "text": [
      "             time  accel x  accel y  accel z  gyro x  gyro y  gyro z\n",
      "0    15:30:28.279   -0.104   -0.972   -0.253     0.0     0.0     0.0\n",
      "1    15:30:28.333   -0.108   -0.968   -0.264     0.0     0.0     0.0\n",
      "2    15:30:28.397   -0.109   -0.964   -0.260     0.0     0.0     0.0\n",
      "3    15:30:28.457   -0.105   -0.961   -0.261     0.0     0.0     0.0\n",
      "4    15:30:28.504   -0.100   -0.969   -0.261     0.0     0.0     0.0\n",
      "..            ...      ...      ...      ...     ...     ...     ...\n",
      "408  15:30:52.086   -0.109   -0.964   -0.235     1.5     0.6    -0.2\n",
      "409  15:30:52.147   -0.107   -0.971   -0.239    -0.4    -1.0    -1.0\n",
      "410  15:30:52.206   -0.106   -0.977   -0.243     1.0    -0.2    -1.5\n",
      "411  15:30:52.284   -0.103   -0.975   -0.246     1.0    -2.4     1.0\n",
      "412  15:30:52.350   -0.121   -0.967   -0.239    -0.1     2.2    -0.4\n",
      "\n",
      "[413 rows x 7 columns]\n"
     ]
    }
   ],
   "source": [
    "import tkinter as tk\n",
    "from tkinter import filedialog\n",
    "import pandas as pd\n",
    "\n",
    "root= tk.Tk()\n",
    "\n",
    "canvas1 = tk.Canvas(root, width = 300, height = 300, bg = 'lightsteelblue2', relief = 'raised')\n",
    "canvas1.pack()\n",
    "\n",
    "def getCSV ():\n",
    "    global df\n",
    "    \n",
    "    import_file_path = filedialog.askopenfilename()\n",
    "    df = pd.read_csv (import_file_path)\n",
    "    print (df)\n",
    "    \n",
    "browseButton_CSV = tk.Button(text=\"      Import CSV File     \", command=getCSV, bg='green', fg='white', font=('helvetica', 12, 'bold'))\n",
    "canvas1.create_window(150, 150, window=browseButton_CSV)\n",
    "\n",
    "root.mainloop()"
   ]
  },
  {
   "cell_type": "code",
   "execution_count": 24,
   "metadata": {},
   "outputs": [
    {
     "name": "stdout",
     "output_type": "stream",
     "text": [
      "             time  accel x  accel y  accel z  gyro x  gyro y  gyro z\n",
      "0    15:35:42.399    0.009   -0.874   -0.431   -16.0    15.9     3.8\n",
      "1    15:35:42.474   -0.018   -0.903   -0.456     0.8     9.7     6.3\n",
      "2    15:35:42.533   -0.022   -0.815   -0.407    -1.1    -2.5     3.3\n",
      "3    15:35:42.593   -0.071   -0.904   -0.419    -7.4     6.9     4.1\n",
      "4    15:35:42.653   -0.032   -0.929   -0.469    -5.3    -1.5     2.0\n",
      "..            ...      ...      ...      ...     ...     ...     ...\n",
      "391  15:36:04.745   -0.047   -0.891   -0.450    -2.7    -3.6    -0.8\n",
      "392  15:36:04.808   -0.062   -0.882   -0.451    -0.8    -4.5    -0.6\n",
      "393  15:36:04.869   -0.067   -0.895   -0.451    -1.0    -0.2     0.7\n",
      "394  15:36:04.936   -0.050   -0.889   -0.451    -2.4    -3.4     0.2\n",
      "395  15:36:04.988   -0.076   -0.883   -0.449    -2.4    -1.6     1.1\n",
      "\n",
      "[396 rows x 7 columns]\n"
     ]
    }
   ],
   "source": [
    "import tkinter as tk\n",
    "from tkinter import filedialog\n",
    "import pandas as pd\n",
    "\n",
    "root= tk.Tk()\n",
    "\n",
    "canvas1 = tk.Canvas(root, width = 300, height = 300, bg = 'lightsteelblue2', relief = 'raised')\n",
    "canvas1.pack()\n",
    "\n",
    "def getCSV ():\n",
    "    global df\n",
    "    \n",
    "    import_file_path = filedialog.askopenfilename()\n",
    "    df = pd.read_csv (import_file_path)\n",
    "    print (df)\n",
    "    \n",
    "browseButton_CSV = tk.Button(text=\"      Import CSV File     \", command=getCSV, bg='green', fg='white', font=('helvetica', 12, 'bold'))\n",
    "canvas1.create_window(150, 150, window=browseButton_CSV)\n",
    "\n",
    "root.mainloop()"
   ]
  },
  {
   "cell_type": "code",
   "execution_count": 26,
   "metadata": {},
   "outputs": [
    {
     "name": "stdout",
     "output_type": "stream",
     "text": [
      "             time  accel x  accel y  accel z  gyro x  gyro y  gyro z\n",
      "0    17:20:57.218    0.230   -0.978    0.024     0.0     0.0     0.0\n",
      "1    17:20:57.267    0.218   -0.975    0.019     0.0     0.0     0.0\n",
      "2    17:20:57.319    0.222   -0.978    0.030     0.0     0.0     0.0\n",
      "3    17:20:57.381    0.211   -0.980    0.028     1.0    -0.5     0.2\n",
      "4    17:20:57.443    0.218   -0.979    0.026    -1.0     0.6    -0.1\n",
      "..            ...      ...      ...      ...     ...     ...     ...\n",
      "360  17:21:19.042    0.200   -0.972    0.053     1.5    -3.1     1.3\n",
      "361  17:21:19.109    0.202   -0.990    0.021    -0.8    -1.2     0.1\n",
      "362  17:21:19.182    0.206   -0.985    0.018    -0.1     0.2    -2.2\n",
      "363  17:21:19.238    0.197   -0.976    0.037     1.5    -1.2     0.6\n",
      "364  17:21:19.298    0.205   -0.976    0.026     0.7    -2.0     1.0\n",
      "\n",
      "[365 rows x 7 columns]\n"
     ]
    }
   ],
   "source": [
    "import tkinter as tk\n",
    "from tkinter import filedialog\n",
    "import pandas as pd\n",
    "\n",
    "root= tk.Tk()\n",
    "\n",
    "canvas1 = tk.Canvas(root, width = 300, height = 300, bg = 'lightsteelblue2', relief = 'raised')\n",
    "canvas1.pack()\n",
    "\n",
    "def getCSV ():\n",
    "    global df\n",
    "    \n",
    "    import_file_path = filedialog.askopenfilename()\n",
    "    df = pd.read_csv (import_file_path)\n",
    "    print (df)\n",
    "    \n",
    "browseButton_CSV = tk.Button(text=\"      Import CSV File     \", command=getCSV, bg='green', fg='white', font=('helvetica', 12, 'bold'))\n",
    "canvas1.create_window(150, 150, window=browseButton_CSV)\n",
    "\n",
    "root.mainloop()"
   ]
  },
  {
   "cell_type": "code",
   "execution_count": 27,
   "metadata": {},
   "outputs": [
    {
     "name": "stdout",
     "output_type": "stream",
     "text": [
      "             time  accel x  accel y  accel z  gyro x  gyro y  gyro z\n",
      "0    17:26:54.779   -0.068   -1.001   -0.137    -1.0    -2.7     1.6\n",
      "1    17:26:54.835   -0.082   -0.985   -0.146     1.3    -2.0     1.3\n",
      "2    17:26:54.893   -0.074   -0.988   -0.148     4.5    -2.0     0.1\n",
      "3    17:26:54.945   -0.077   -0.999   -0.137     4.5    -0.1     0.4\n",
      "4    17:26:55.005   -0.079   -1.011   -0.126     1.5    -2.6     0.8\n",
      "..            ...      ...      ...      ...     ...     ...     ...\n",
      "260  17:27:10.994   -0.133   -0.971   -0.217    -4.3    -2.1    -0.8\n",
      "261  17:27:11.054   -0.160   -0.962   -0.214    -2.3     0.5    -1.8\n",
      "262  17:27:11.114   -0.146   -0.982   -0.209    -2.7    -1.4    -1.7\n",
      "263  17:27:11.165   -0.136   -0.986   -0.217    -1.0    -2.5    -2.2\n",
      "264  17:27:11.223   -0.153   -0.999   -0.218    -0.3     0.8    -6.0\n",
      "\n",
      "[265 rows x 7 columns]\n"
     ]
    }
   ],
   "source": [
    "import tkinter as tk\n",
    "from tkinter import filedialog\n",
    "import pandas as pd\n",
    "\n",
    "root= tk.Tk()\n",
    "\n",
    "canvas1 = tk.Canvas(root, width = 300, height = 300, bg = 'lightsteelblue2', relief = 'raised')\n",
    "canvas1.pack()\n",
    "\n",
    "def getCSV ():\n",
    "    global df\n",
    "    \n",
    "    import_file_path = filedialog.askopenfilename()\n",
    "    df = pd.read_csv (import_file_path)\n",
    "    print (df)\n",
    "    \n",
    "browseButton_CSV = tk.Button(text=\"      Import CSV File     \", command=getCSV, bg='green', fg='white', font=('helvetica', 12, 'bold'))\n",
    "canvas1.create_window(150, 150, window=browseButton_CSV)\n",
    "\n",
    "root.mainloop()"
   ]
  },
  {
   "cell_type": "code",
   "execution_count": 28,
   "metadata": {},
   "outputs": [
    {
     "name": "stdout",
     "output_type": "stream",
     "text": [
      "             time  accel x  accel y  accel z  gyro x  gyro y  gyro z\n",
      "0    17:08:14.628    0.339   -0.951    0.097     0.0     0.0     0.0\n",
      "1    17:08:14.682    0.359   -0.944    0.091     0.0     0.0     0.0\n",
      "2    17:08:14.726    0.353   -0.936    0.090     0.0     0.0     0.0\n",
      "3    17:08:14.778    0.351   -0.938    0.081     0.0     0.0     0.0\n",
      "4    17:08:14.839    0.347   -0.944    0.085     0.5     0.1     1.3\n",
      "..            ...      ...      ...      ...     ...     ...     ...\n",
      "401  17:08:38.458    0.372   -0.929    0.088     0.0     0.0     0.0\n",
      "402  17:08:38.521    0.373   -0.935    0.089    -1.0    -0.1    -1.1\n",
      "403  17:08:38.580    0.378   -0.929    0.086     0.3    -0.3    -1.0\n",
      "404  17:08:38.638    0.383   -0.930    0.087    -2.6    -2.0    -1.1\n",
      "405  17:08:38.704    0.380   -0.931    0.082     1.3     0.3    -0.9\n",
      "\n",
      "[406 rows x 7 columns]\n"
     ]
    }
   ],
   "source": [
    "import tkinter as tk\n",
    "from tkinter import filedialog\n",
    "import pandas as pd\n",
    "\n",
    "root= tk.Tk()\n",
    "\n",
    "canvas1 = tk.Canvas(root, width = 300, height = 300, bg = 'lightsteelblue2', relief = 'raised')\n",
    "canvas1.pack()\n",
    "\n",
    "def getCSV ():\n",
    "    global df\n",
    "    \n",
    "    import_file_path = filedialog.askopenfilename()\n",
    "    df = pd.read_csv (import_file_path)\n",
    "    print (df)\n",
    "    \n",
    "browseButton_CSV = tk.Button(text=\"      Import CSV File     \", command=getCSV, bg='green', fg='white', font=('helvetica', 12, 'bold'))\n",
    "canvas1.create_window(150, 150, window=browseButton_CSV)\n",
    "\n",
    "root.mainloop()"
   ]
  },
  {
   "cell_type": "code",
   "execution_count": 29,
   "metadata": {},
   "outputs": [
    {
     "name": "stdout",
     "output_type": "stream",
     "text": [
      "             time  accel x  accel y  accel z  gyro x  gyro y  gyro z\n",
      "0    17:13:14.568    0.138   -0.941   -0.309     0.0     0.0     0.0\n",
      "1    17:13:14.623    0.136   -0.940   -0.309     0.0     0.0     0.0\n",
      "2    17:13:14.684    0.142   -0.936   -0.308     0.0     0.0     0.0\n",
      "3    17:13:14.744    0.143   -0.945   -0.309     0.0     0.0     0.0\n",
      "4    17:13:14.805    0.135   -0.941   -0.312     0.2    -2.0     0.3\n",
      "..            ...      ...      ...      ...     ...     ...     ...\n",
      "359  17:13:36.099    0.138   -0.946   -0.313     0.3    -1.0    -0.8\n",
      "360  17:13:36.159    0.129   -0.923   -0.311    -0.2    -2.4    -1.2\n",
      "361  17:13:36.221    0.133   -0.959   -0.304     0.0     0.0     0.0\n",
      "362  17:13:36.278    0.140   -0.940   -0.311    -0.4     1.3    -1.5\n",
      "363  17:13:36.339    0.131   -0.938   -0.309     0.0     0.0     0.0\n",
      "\n",
      "[364 rows x 7 columns]\n"
     ]
    }
   ],
   "source": [
    "import tkinter as tk\n",
    "from tkinter import filedialog\n",
    "import pandas as pd\n",
    "\n",
    "root= tk.Tk()\n",
    "\n",
    "canvas1 = tk.Canvas(root, width = 300, height = 300, bg = 'lightsteelblue2', relief = 'raised')\n",
    "canvas1.pack()\n",
    "\n",
    "def getCSV ():\n",
    "    global df\n",
    "    \n",
    "    import_file_path = filedialog.askopenfilename()\n",
    "    df = pd.read_csv (import_file_path)\n",
    "    print (df)\n",
    "    \n",
    "browseButton_CSV = tk.Button(text=\"      Import CSV File     \", command=getCSV, bg='green', fg='white', font=('helvetica', 12, 'bold'))\n",
    "canvas1.create_window(150, 150, window=browseButton_CSV)\n",
    "\n",
    "root.mainloop()"
   ]
  },
  {
   "cell_type": "code",
   "execution_count": 30,
   "metadata": {},
   "outputs": [
    {
     "name": "stdout",
     "output_type": "stream",
     "text": [
      "             time  accel x  accel y  accel z  gyro x  gyro y  gyro z\n",
      "0    16:01:39.440   -0.020   -0.968   -0.257     0.0     0.0     0.0\n",
      "1    16:01:39.490   -0.002   -0.961   -0.258     0.0     0.0     0.0\n",
      "2    16:01:39.541    0.009   -0.966   -0.256     0.3    -0.2    -1.3\n",
      "3    16:01:39.600   -0.010   -0.972   -0.254    -0.3    -1.1     0.8\n",
      "4    16:01:39.660   -0.015   -0.962   -0.254     1.4     0.4    -0.1\n",
      "..            ...      ...      ...      ...     ...     ...     ...\n",
      "348  16:02:00.131    0.000   -0.973   -0.244     0.0     0.0     0.0\n",
      "349  16:02:00.194   -0.006   -0.963   -0.248     0.0     0.0     0.0\n",
      "350  16:02:00.254    0.002   -0.976   -0.246     0.0     0.0     0.0\n",
      "351  16:02:00.311    0.005   -0.968   -0.244     0.0     0.0     0.0\n",
      "352  16:02:00.382   -0.006   -0.969   -0.249     0.0     0.0     0.0\n",
      "\n",
      "[353 rows x 7 columns]\n"
     ]
    }
   ],
   "source": [
    "import tkinter as tk\n",
    "from tkinter import filedialog\n",
    "import pandas as pd\n",
    "\n",
    "root= tk.Tk()\n",
    "\n",
    "canvas1 = tk.Canvas(root, width = 300, height = 300, bg = 'lightsteelblue2', relief = 'raised')\n",
    "canvas1.pack()\n",
    "\n",
    "def getCSV ():\n",
    "    global df\n",
    "    \n",
    "    import_file_path = filedialog.askopenfilename()\n",
    "    df = pd.read_csv (import_file_path)\n",
    "    print (df)\n",
    "    \n",
    "browseButton_CSV = tk.Button(text=\"      Import CSV File     \", command=getCSV, bg='green', fg='white', font=('helvetica', 12, 'bold'))\n",
    "canvas1.create_window(150, 150, window=browseButton_CSV)\n",
    "\n",
    "root.mainloop()"
   ]
  },
  {
   "cell_type": "code",
   "execution_count": 31,
   "metadata": {},
   "outputs": [
    {
     "name": "stdout",
     "output_type": "stream",
     "text": [
      "             time  accel x  accel y  accel z  gyro x  gyro y  gyro z\n",
      "0    16:06:33.877   -0.089   -0.954   -0.258     0.0     0.0     0.0\n",
      "1    16:06:33.934   -0.073   -0.972   -0.254    -0.1    -1.1     0.6\n",
      "2    16:06:33.994   -0.076   -0.965   -0.260     0.3     1.0    -0.3\n",
      "3    16:06:34.045   -0.073   -0.963   -0.256     1.5     1.6     0.0\n",
      "4    16:06:34.104   -0.067   -0.974   -0.255     0.0     0.0     0.0\n",
      "..            ...      ...      ...      ...     ...     ...     ...\n",
      "398  16:06:57.367   -0.100   -0.971   -0.233     0.0     0.0     0.0\n",
      "399  16:06:57.431   -0.103   -0.968   -0.236     0.0     0.0     0.0\n",
      "400  16:06:57.489   -0.101   -0.968   -0.234     0.0     0.0     0.0\n",
      "401  16:06:57.537   -0.093   -0.973   -0.233    -0.5    -3.8     1.9\n",
      "402  16:06:57.597   -0.104   -0.976   -0.223     0.7     1.3     0.0\n",
      "\n",
      "[403 rows x 7 columns]\n"
     ]
    }
   ],
   "source": [
    "import tkinter as tk\n",
    "from tkinter import filedialog\n",
    "import pandas as pd\n",
    "\n",
    "root= tk.Tk()\n",
    "\n",
    "canvas1 = tk.Canvas(root, width = 300, height = 300, bg = 'lightsteelblue2', relief = 'raised')\n",
    "canvas1.pack()\n",
    "\n",
    "def getCSV ():\n",
    "    global df\n",
    "    \n",
    "    import_file_path = filedialog.askopenfilename()\n",
    "    df = pd.read_csv (import_file_path)\n",
    "    print (df)\n",
    "    \n",
    "browseButton_CSV = tk.Button(text=\"      Import CSV File     \", command=getCSV, bg='green', fg='white', font=('helvetica', 12, 'bold'))\n",
    "canvas1.create_window(150, 150, window=browseButton_CSV)\n",
    "\n",
    "root.mainloop()"
   ]
  },
  {
   "cell_type": "code",
   "execution_count": 32,
   "metadata": {},
   "outputs": [
    {
     "name": "stdout",
     "output_type": "stream",
     "text": [
      "             time  accel x  accel y  accel z  gyro x  gyro y  gyro z\n",
      "0    16:00:56.716   -0.016   -0.941   -0.354     0.0     0.0     0.0\n",
      "1    16:00:56.778   -0.011   -0.945   -0.337     0.0     0.0     0.0\n",
      "2    16:00:56.825   -0.012   -0.948   -0.340     0.0     0.0     0.0\n",
      "3    16:00:56.888   -0.009   -0.944   -0.344     0.0     0.0     0.0\n",
      "4    16:00:56.950   -0.010   -0.944   -0.341     0.0     0.0     0.0\n",
      "..            ...      ...      ...      ...     ...     ...     ...\n",
      "382  16:01:18.902    0.012   -0.943   -0.334     0.0     0.0     0.0\n",
      "383  16:01:18.968    0.016   -0.944   -0.338     0.0     0.0     0.0\n",
      "384  16:01:19.030    0.006   -0.940   -0.344     0.0     0.0     0.0\n",
      "385  16:01:19.072    0.007   -0.947   -0.339     0.0     0.0     0.0\n",
      "386  16:01:19.135    0.010   -0.937   -0.339     0.0     0.0     0.0\n",
      "\n",
      "[387 rows x 7 columns]\n"
     ]
    }
   ],
   "source": [
    "import tkinter as tk\n",
    "from tkinter import filedialog\n",
    "import pandas as pd\n",
    "\n",
    "root= tk.Tk()\n",
    "\n",
    "canvas1 = tk.Canvas(root, width = 300, height = 300, bg = 'lightsteelblue2', relief = 'raised')\n",
    "canvas1.pack()\n",
    "\n",
    "def getCSV ():\n",
    "    global df\n",
    "    \n",
    "    import_file_path = filedialog.askopenfilename()\n",
    "    df = pd.read_csv (import_file_path)\n",
    "    print (df)\n",
    "    \n",
    "browseButton_CSV = tk.Button(text=\"      Import CSV File     \", command=getCSV, bg='green', fg='white', font=('helvetica', 12, 'bold'))\n",
    "canvas1.create_window(150, 150, window=browseButton_CSV)\n",
    "\n",
    "root.mainloop()"
   ]
  },
  {
   "cell_type": "code",
   "execution_count": 33,
   "metadata": {},
   "outputs": [
    {
     "name": "stdout",
     "output_type": "stream",
     "text": [
      "             time  accel x  accel y  accel z  gyro x  gyro y  gyro z\n",
      "0    16:08:21.935    0.025   -0.981   -0.219     0.6     1.0     0.2\n",
      "1    16:08:21.997    0.021   -0.968   -0.229    -0.5    -0.4     1.5\n",
      "2    16:08:22.060    0.018   -0.968   -0.226     0.2    -1.0     1.1\n",
      "3    16:08:22.107    0.009   -0.978   -0.229    -0.8    -0.8     1.7\n",
      "4    16:08:22.169    0.014   -0.981   -0.224    -0.3     1.9    -0.3\n",
      "..            ...      ...      ...      ...     ...     ...     ...\n",
      "390  16:08:45.143    0.044   -0.979   -0.211    -0.6    -1.4     0.1\n",
      "391  16:08:45.206    0.040   -0.978   -0.208     0.0     0.0     0.0\n",
      "392  16:08:45.268    0.039   -0.976   -0.212     0.3     1.7     0.8\n",
      "393  16:08:45.331    0.041   -0.975   -0.216     0.1     2.0     0.6\n",
      "394  16:08:45.409    0.055   -0.972   -0.223    -1.5     1.0     0.5\n",
      "\n",
      "[395 rows x 7 columns]\n"
     ]
    }
   ],
   "source": [
    "import tkinter as tk\n",
    "from tkinter import filedialog\n",
    "import pandas as pd\n",
    "\n",
    "root= tk.Tk()\n",
    "\n",
    "canvas1 = tk.Canvas(root, width = 300, height = 300, bg = 'lightsteelblue2', relief = 'raised')\n",
    "canvas1.pack()\n",
    "\n",
    "def getCSV ():\n",
    "    global df\n",
    "    \n",
    "    import_file_path = filedialog.askopenfilename()\n",
    "    df = pd.read_csv (import_file_path)\n",
    "    print (df)\n",
    "    \n",
    "browseButton_CSV = tk.Button(text=\"      Import CSV File     \", command=getCSV, bg='green', fg='white', font=('helvetica', 12, 'bold'))\n",
    "canvas1.create_window(150, 150, window=browseButton_CSV)\n",
    "\n",
    "root.mainloop()"
   ]
  },
  {
   "cell_type": "code",
   "execution_count": 34,
   "metadata": {},
   "outputs": [
    {
     "name": "stdout",
     "output_type": "stream",
     "text": [
      "             time  accel x  accel y  accel z  gyro x  gyro y  gyro z\n",
      "0    15:52:39.802   -0.028   -0.968   -0.287     0.0     0.0     0.0\n",
      "1    15:52:39.865   -0.022   -0.956   -0.296     0.0     0.0     0.0\n",
      "2    15:52:39.912   -0.015   -0.961   -0.301     0.0     0.0     0.0\n",
      "3    15:52:39.990   -0.020   -0.953   -0.294     0.0     0.0     0.0\n",
      "4    15:52:40.052   -0.020   -0.961   -0.295     0.0     0.0     0.0\n",
      "..            ...      ...      ...      ...     ...     ...     ...\n",
      "388  15:53:04.096   -0.005   -0.967   -0.269     0.0     0.0     0.0\n",
      "389  15:53:04.158   -0.005   -0.966   -0.271     0.0     0.0     0.0\n",
      "390  15:53:04.205   -0.008   -0.965   -0.272     0.0     0.0     0.0\n",
      "391  15:53:04.270   -0.010   -0.969   -0.271     0.0     0.0     0.0\n",
      "392  15:53:04.319   -0.009   -0.970   -0.270     0.0     0.0     0.0\n",
      "\n",
      "[393 rows x 7 columns]\n"
     ]
    }
   ],
   "source": [
    "import tkinter as tk\n",
    "from tkinter import filedialog\n",
    "import pandas as pd\n",
    "\n",
    "root= tk.Tk()\n",
    "\n",
    "canvas1 = tk.Canvas(root, width = 300, height = 300, bg = 'lightsteelblue2', relief = 'raised')\n",
    "canvas1.pack()\n",
    "\n",
    "def getCSV ():\n",
    "    global df\n",
    "    \n",
    "    import_file_path = filedialog.askopenfilename()\n",
    "    df = pd.read_csv (import_file_path)\n",
    "    print (df)\n",
    "    \n",
    "browseButton_CSV = tk.Button(text=\"      Import CSV File     \", command=getCSV, bg='green', fg='white', font=('helvetica', 12, 'bold'))\n",
    "canvas1.create_window(150, 150, window=browseButton_CSV)\n",
    "\n",
    "root.mainloop()"
   ]
  },
  {
   "cell_type": "code",
   "execution_count": 35,
   "metadata": {},
   "outputs": [
    {
     "name": "stdout",
     "output_type": "stream",
     "text": [
      "             time  accel x  accel y  accel z  gyro x  gyro y  gyro z\n",
      "0    16:04:41.321   -0.128   -0.965   -0.250     1.3     3.5     0.9\n",
      "1    16:04:41.384   -0.105   -0.973   -0.242     0.8     1.3     0.8\n",
      "2    16:04:41.446   -0.103   -0.971   -0.248     1.3     0.1    -0.1\n",
      "3    16:04:41.509   -0.096   -0.973   -0.240     0.8    -0.7    -0.9\n",
      "4    16:04:41.556   -0.104   -0.978   -0.246     1.4    -2.6    -0.7\n",
      "..            ...      ...      ...      ...     ...     ...     ...\n",
      "560  16:05:14.268   -0.101   -0.970   -0.240     0.0     0.0     0.0\n",
      "561  16:05:14.331   -0.099   -0.972   -0.245     0.0     0.0     0.0\n",
      "562  16:05:14.393   -0.098   -0.974   -0.248     0.0     0.0     0.0\n",
      "563  16:05:14.462   -0.096   -0.970   -0.247     0.0     0.0     0.0\n",
      "564  16:05:14.538   -0.100   -0.977   -0.254     0.0     0.0     0.0\n",
      "\n",
      "[565 rows x 7 columns]\n"
     ]
    }
   ],
   "source": [
    "import tkinter as tk\n",
    "from tkinter import filedialog\n",
    "import pandas as pd\n",
    "\n",
    "root= tk.Tk()\n",
    "\n",
    "canvas1 = tk.Canvas(root, width = 300, height = 300, bg = 'lightsteelblue2', relief = 'raised')\n",
    "canvas1.pack()\n",
    "\n",
    "def getCSV ():\n",
    "    global df\n",
    "    \n",
    "    import_file_path = filedialog.askopenfilename()\n",
    "    df = pd.read_csv (import_file_path)\n",
    "    print (df)\n",
    "    \n",
    "browseButton_CSV = tk.Button(text=\"      Import CSV File     \", command=getCSV, bg='green', fg='white', font=('helvetica', 12, 'bold'))\n",
    "canvas1.create_window(150, 150, window=browseButton_CSV)\n",
    "\n",
    "root.mainloop()"
   ]
  },
  {
   "cell_type": "code",
   "execution_count": 36,
   "metadata": {},
   "outputs": [
    {
     "name": "stdout",
     "output_type": "stream",
     "text": [
      "             time  accel x  accel y  accel z  gyro x  gyro y  gyro z\n",
      "0    15:51:29.304   -0.058   -1.004   -0.072     0.0     0.0     0.0\n",
      "1    15:51:29.363   -0.062   -1.008   -0.078     0.0     0.0     0.0\n",
      "2    15:51:29.422   -0.065   -0.998   -0.071     0.0     0.0     0.0\n",
      "3    15:51:29.495   -0.064   -1.003   -0.073     0.0     0.0     0.0\n",
      "4    15:51:29.546   -0.062   -1.000   -0.076     0.0     0.0     0.0\n",
      "..            ...      ...      ...      ...     ...     ...     ...\n",
      "409  15:51:53.015   -0.067   -1.006   -0.042     0.0     0.0     0.0\n",
      "410  15:51:53.073   -0.067   -1.003   -0.041     0.0     0.0     0.0\n",
      "411  15:51:53.116   -0.066   -1.006   -0.042     0.0     0.0     0.0\n",
      "412  15:51:53.182   -0.068   -1.003   -0.043     0.0     0.0     0.0\n",
      "413  15:51:53.241   -0.068   -1.005   -0.043     0.0     0.0     0.0\n",
      "\n",
      "[414 rows x 7 columns]\n"
     ]
    }
   ],
   "source": [
    "import tkinter as tk\n",
    "from tkinter import filedialog\n",
    "import pandas as pd\n",
    "\n",
    "root= tk.Tk()\n",
    "\n",
    "canvas1 = tk.Canvas(root, width = 300, height = 300, bg = 'lightsteelblue2', relief = 'raised')\n",
    "canvas1.pack()\n",
    "\n",
    "def getCSV ():\n",
    "    global df\n",
    "    \n",
    "    import_file_path = filedialog.askopenfilename()\n",
    "    df = pd.read_csv (import_file_path)\n",
    "    print (df)\n",
    "    \n",
    "browseButton_CSV = tk.Button(text=\"      Import CSV File     \", command=getCSV, bg='green', fg='white', font=('helvetica', 12, 'bold'))\n",
    "canvas1.create_window(150, 150, window=browseButton_CSV)\n",
    "\n",
    "root.mainloop()"
   ]
  },
  {
   "cell_type": "code",
   "execution_count": 37,
   "metadata": {},
   "outputs": [
    {
     "name": "stdout",
     "output_type": "stream",
     "text": [
      "             time  accel x  accel y  accel z  gyro x  gyro y  gyro z\n",
      "0    15:55:58.183   -0.033   -1.001   -0.007     0.6    -2.1     0.6\n",
      "1    15:55:58.247   -0.041   -1.011    0.003     0.0     0.0     0.0\n",
      "2    15:55:58.299   -0.049   -1.017    0.004    -1.1     2.9    -0.6\n",
      "3    15:55:58.359   -0.033   -1.007   -0.003    -1.1     1.1    -0.8\n",
      "4    15:55:58.417   -0.033   -0.999    0.000    -1.0     0.4    -0.5\n",
      "..            ...      ...      ...      ...     ...     ...     ...\n",
      "320  15:56:17.840   -0.013   -1.008   -0.014     0.0     0.0     0.0\n",
      "321  15:56:17.899   -0.013   -1.007   -0.019     0.0     0.0     0.0\n",
      "322  15:56:17.947   -0.011   -1.008   -0.013    -0.3    -1.1     0.7\n",
      "323  15:56:18.010   -0.017   -1.000   -0.013     0.0     0.0     0.0\n",
      "324  15:56:18.074   -0.014   -1.002   -0.011     0.2     1.1     0.6\n",
      "\n",
      "[325 rows x 7 columns]\n"
     ]
    }
   ],
   "source": [
    "import tkinter as tk\n",
    "from tkinter import filedialog\n",
    "import pandas as pd\n",
    "\n",
    "root= tk.Tk()\n",
    "\n",
    "canvas1 = tk.Canvas(root, width = 300, height = 300, bg = 'lightsteelblue2', relief = 'raised')\n",
    "canvas1.pack()\n",
    "\n",
    "def getCSV ():\n",
    "    global df\n",
    "    \n",
    "    import_file_path = filedialog.askopenfilename()\n",
    "    df = pd.read_csv (import_file_path)\n",
    "    print (df)\n",
    "    \n",
    "browseButton_CSV = tk.Button(text=\"      Import CSV File     \", command=getCSV, bg='green', fg='white', font=('helvetica', 12, 'bold'))\n",
    "canvas1.create_window(150, 150, window=browseButton_CSV)\n",
    "\n",
    "root.mainloop()"
   ]
  },
  {
   "cell_type": "code",
   "execution_count": null,
   "metadata": {},
   "outputs": [],
   "source": []
  }
 ],
 "metadata": {
  "kernelspec": {
   "display_name": "Python 3",
   "language": "python",
   "name": "python3"
  },
  "language_info": {
   "codemirror_mode": {
    "name": "ipython",
    "version": 3
   },
   "file_extension": ".py",
   "mimetype": "text/x-python",
   "name": "python",
   "nbconvert_exporter": "python",
   "pygments_lexer": "ipython3",
   "version": "3.7.4"
  }
 },
 "nbformat": 4,
 "nbformat_minor": 4
}
